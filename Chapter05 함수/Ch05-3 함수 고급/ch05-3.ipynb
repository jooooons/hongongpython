{
 "cells": [
  {
   "cell_type": "markdown",
   "metadata": {},
   "source": [
    "> 함수의 매개변수로 함수 전달하기"
   ]
  },
  {
   "cell_type": "code",
   "execution_count": null,
   "metadata": {},
   "outputs": [],
   "source": [
    "def call_10_times(func):\n",
    "    for i in range(10):\n",
    "        func()\n",
    "\n",
    "def print_hello1():\n",
    "    print(\"안녕하세요\")\n",
    "\n",
    "def print_hello2():\n",
    "    print(\"안녕하세요~~~\")\n",
    "\n",
    "# 함수 콜(매개변수로 함수를 전달)\n",
    "call_10_times(print_hello1)"
   ]
  },
  {
   "cell_type": "code",
   "execution_count": null,
   "metadata": {},
   "outputs": [],
   "source": [
    "# 람다 표현식 적용\n",
    "call_10_times(lambda : print(\"hi~\"))"
   ]
  },
  {
   "cell_type": "markdown",
   "metadata": {},
   "source": [
    "> 람다 표현식으로 함수 만들기"
   ]
  },
  {
   "cell_type": "code",
   "execution_count": null,
   "metadata": {},
   "outputs": [],
   "source": [
    "def plus_ten(x):\n",
    "    return x + 10\n",
    "plus_ten(1)\n",
    "\n",
    "# lambda x : x + 10"
   ]
  },
  {
   "cell_type": "code",
   "execution_count": null,
   "metadata": {},
   "outputs": [],
   "source": [
    "plus_two = lambda x : x + 2\n",
    "print(type(plus_two))\n",
    "plus_two(3)\n",
    "\n",
    "(lambda x : x + 2)(11)"
   ]
  },
  {
   "cell_type": "code",
   "execution_count": null,
   "metadata": {},
   "outputs": [],
   "source": [
    "# [주의사항]\n",
    "# 람다 표현식 안에서는 변수를 만들 수 없다!\n",
    "\n",
    "# (lambda x : y=10, x+y)(3) < 람다 표현식 안에서 변수를 생성했기에 오류\n",
    "y = 10\n",
    "(lambda x : x+y)(3)"
   ]
  },
  {
   "cell_type": "markdown",
   "metadata": {},
   "source": [
    "> filter() 함수와 map() 함수 "
   ]
  },
  {
   "cell_type": "code",
   "execution_count": null,
   "metadata": {},
   "outputs": [],
   "source": [
    "# 함수를 매개변수로 전달하는 대표적인 표준함수\n",
    "# map(함수, 리스트)\n",
    "# filter(함수, 리스트)\n",
    "\n",
    "def power(item):\n",
    "    return item*item\n",
    "\n",
    "def under_3(item):\n",
    "    return item < 3\n",
    "\n",
    "li = [1,2,3,4,5]\n",
    "\n",
    "# map() 함수를 이용\n",
    "output = map(power, li)\n",
    "print(output)\n",
    "print(list(output))\n",
    "\n",
    "# filter() 함수를 이용\n",
    "output2 = filter(under_3, li)\n",
    "print(output2)\n",
    "print(list(output2))"
   ]
  },
  {
   "cell_type": "code",
   "execution_count": null,
   "metadata": {},
   "outputs": [],
   "source": [
    "# 인라인 람다\n",
    "output3 = map(lambda x : x**3, li)\n",
    "print(list(output3))\n",
    "\n",
    "output4 = filter(lambda x : x**2 <= 10, li)\n",
    "print(list(output4))"
   ]
  },
  {
   "cell_type": "markdown",
   "metadata": {},
   "source": [
    "### 파일 처리 : 열기, 읽기, 쓰기\n",
    "> 파일에 문자열 쓰기"
   ]
  },
  {
   "cell_type": "code",
   "execution_count": null,
   "metadata": {},
   "outputs": [],
   "source": [
    "sb = \"ABCD\".encode()\n",
    "print(sb, type(sb))\n",
    "\n",
    "data = b'\\x48\\x65\\x6c\\x6c\\x6f\\x20\\x57\\x6f\\x72\\x6c\\x64'\n",
    "print(hex(ord(\" \")))\n",
    "print(data.decode())"
   ]
  },
  {
   "cell_type": "code",
   "execution_count": null,
   "metadata": {},
   "outputs": [],
   "source": [
    "# 표준입출력 : <stdio> <iostream>\n",
    "# I.O란 컴퓨터 내부/외부의 장치와 프로그램 간의 데이터를 주고받는 것\n",
    "# 단방향 buffer : InputStream, OutputStream\n",
    "\n",
    "# open(\"파일경로\", '모드')\n",
    "# 모드 : w(write), a(append), r(read), t(text), b(binary)\n",
    "\n",
    "# open() ~ close() 미리 작성하는 습관을 가질 것\n",
    "fo = open(\"../../source/basic.txt\", 'w')\n",
    "print(type(fo))\n",
    "print(fo.name, fo.mode)\n",
    "fo.write(\"[Hello Python Programming]\\n\")\n",
    "fo.write(\"First line...!\\n\")\n",
    "fo.write(\"Second line...!\\n\")\n",
    "fo.write(\"Third line...!\\n\")\n",
    "fo.write(\"End line...!\")\n",
    "fo.close()"
   ]
  },
  {
   "cell_type": "code",
   "execution_count": null,
   "metadata": {},
   "outputs": [],
   "source": [
    "fo = open(\"../../source/basic.txt\", 'r')\n",
    "\n",
    "# 한번에 다 읽어오기\n",
    "# text = fo.read()\n",
    "# print(text)\n",
    "\n",
    "# 한줄씩 읽어오기\n",
    "print(1, fo.readline(), end='')\n",
    "print(2, fo.readline(), end='')\n",
    "print(3, fo.readline(), end='')\n",
    "print(4, fo.readline(), end='')\n",
    "print(5, bool(fo.readline()))\n",
    "print(6, bool(fo.readline()))\n",
    "\n",
    "fo.close()"
   ]
  },
  {
   "cell_type": "code",
   "execution_count": null,
   "metadata": {},
   "outputs": [],
   "source": [
    "f = open(\"../../source/basic.txt\", 'rt')\n",
    "lines = f.readline()\n",
    "for i in range(len(lines)):\n",
    "    print(f\"{i+1} line :\", lines[i])\n",
    "f.close()"
   ]
  },
  {
   "cell_type": "markdown",
   "metadata": {},
   "source": [
    "> with 키워드"
   ]
  },
  {
   "cell_type": "code",
   "execution_count": null,
   "metadata": {},
   "outputs": [],
   "source": [
    "try :\n",
    "    fo = open('basic.txt', mode='rw')\n",
    "    for line in fo:\n",
    "        print(line)\n",
    "finally :\n",
    "    f.close()\n",
    "\n",
    "# 위의 식을 아래 2줄로 표현 가능\n",
    "\n",
    "with open('basic.txt', mode='rt') as fi:\n",
    "    fi.readline()"
   ]
  },
  {
   "cell_type": "markdown",
   "metadata": {},
   "source": [
    "> csv 파일을 만들어 사용하기"
   ]
  },
  {
   "cell_type": "code",
   "execution_count": null,
   "metadata": {},
   "outputs": [],
   "source": [
    "# 텍스트를 사용해 데이터를 구조적으로 표현하는 방법 : csv, xml, json\n",
    "# csv 파일 : 한 줄에 하나의 데이터를 나타내며, 각각의 줄은 ','(쉼표)로 데이터를 구분\n",
    "# 김철수, 178, 65\n",
    "\n",
    "import random\n",
    "first_names = \"김이박최정강조윤장임한오서신\"\n",
    "last_names = \"가나다라마바사아자차카파타하\"\n",
    "\n",
    "with open('info.csv', 'w', encoding = 'UTF-8') as f:\n",
    "    for i in range(10):\n",
    "        first = random.choice(first_names)\n",
    "        last = random.choice(last_names) + random.choice(last_names)\n",
    "        name = first + last\n",
    "        height = random.randrange(140,200)\n",
    "        weight = random.randrange(40, 100)\n",
    "        f.write(\"{}, {}, {}\\n\".format(name, height, weight))"
   ]
  },
  {
   "cell_type": "code",
   "execution_count": null,
   "metadata": {},
   "outputs": [],
   "source": [
    "# BMI : 몸무게/키의 제곱\n",
    "with open(\"info.csv\", 'r', encoding='utf-8') as fo:\n",
    "    for line in fo:\n",
    "        (name, height, weight) = line.strip().split(\", \")\n",
    "        # 데이터가 유효한지 검사\n",
    "        if (not name) or (not weight) or (not height):\n",
    "            continue\n",
    "        bmi = int(weight) / (int(height)/100)**2\n",
    "        result = \"\"\n",
    "        if bmi >= 25 : result = \"비만\"\n",
    "        elif bmi >= 23 : result = \"과체중\"\n",
    "        elif bmi >= 18 : result = \"정상\"\n",
    "        else : result = \"저체중\"\n",
    "        str_out = '\\n'.join([\"이름: {}\", \"몸무게: {}\", \"키: {}\", \"BMI: {}\", \"결과: {}\"]).format(name, weight, height, round(bmi), result)\n",
    "        print(str_out)\n",
    "        print()"
   ]
  },
  {
   "cell_type": "markdown",
   "metadata": {},
   "source": [
    "> 바이너리 파일"
   ]
  },
  {
   "cell_type": "code",
   "execution_count": 56,
   "metadata": {},
   "outputs": [],
   "source": [
    "from urllib import request\n",
    "\n",
    "target = request.urlopen(\"https://mblogthumb-phinf.pstatic.net/MjAxNzA1MDJfMTQ4/MDAxNDkzNzE2MTA1NjQ3.cQ0CuaMOBaJP3wzEaqnwvhdrr-zEJatWTM7IyhCHRE8g.DbdoJeoWAReLNRdGV6Omq1ANHn66OS9gxd_Yl4y0s5kg.JPEG.honggicm/%EB%A3%A8%ED%94%BC.JPG?type=w800\")\n",
    "bin_file = target.read()\n",
    "\n",
    "with open(\"..\\\\..\\\\source\\\\loopy.jpg\", 'wb') as fb:\n",
    "    fb.write(bin_file)"
   ]
  }
 ],
 "metadata": {
  "interpreter": {
   "hash": "054c0b5073ae8ed56926c5c67113945079b283bacf1a269ae7086b3d9eebd60c"
  },
  "kernelspec": {
   "display_name": "Python 3.10.1 64-bit",
   "language": "python",
   "name": "python3"
  },
  "language_info": {
   "codemirror_mode": {
    "name": "ipython",
    "version": 3
   },
   "file_extension": ".py",
   "mimetype": "text/x-python",
   "name": "python",
   "nbconvert_exporter": "python",
   "pygments_lexer": "ipython3",
   "version": "3.10.1"
  },
  "orig_nbformat": 4
 },
 "nbformat": 4,
 "nbformat_minor": 2
}
