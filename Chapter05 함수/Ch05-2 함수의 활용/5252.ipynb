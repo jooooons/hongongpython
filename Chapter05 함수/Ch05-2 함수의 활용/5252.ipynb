{
 "cells": [
  {
   "cell_type": "markdown",
   "metadata": {},
   "source": [
    "> 변수의 유효 범위"
   ]
  },
  {
   "cell_type": "code",
   "execution_count": null,
   "metadata": {},
   "outputs": [],
   "source": [
    "# 변수의 유효 범위(variable scope)\n",
    "# 변수가 선언된 위치에 따라서 해당 변수가 영향을 미치는 범위가 달라진다.\n",
    "\n",
    "# 코드영역, 데이터영역, 스택메모리, 힙메모리\n",
    "\n",
    "# 지역변수 / 전역변수\n",
    "m = 100\n",
    "def out():\n",
    "    global m  # 지역변수가 아닌 전역변수로써 m을 쓰겠다고 선언!\n",
    "    m = 10\n",
    "    print(\"m = \", m)\n",
    "out()\n",
    "print(m)"
   ]
  }
 ],
 "metadata": {
  "interpreter": {
   "hash": "47e981e3ce92cc38a76b75838fce2c8c5d6bdd16f626c3fb6391f5ba571928ac"
  },
  "kernelspec": {
   "display_name": "Python 3.10.1 64-bit (system)",
   "language": "python",
   "name": "python3"
  },
  "language_info": {
   "codemirror_mode": {
    "name": "ipython",
    "version": 3
   },
   "file_extension": ".py",
   "mimetype": "text/x-python",
   "name": "python",
   "nbconvert_exporter": "python",
   "pygments_lexer": "ipython3",
   "version": "3.10.1"
  },
  "orig_nbformat": 4
 },
 "nbformat": 4,
 "nbformat_minor": 2
}
