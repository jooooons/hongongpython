{
 "cells": [
  {
   "cell_type": "markdown",
   "metadata": {},
   "source": [
    "### 03-2 if ~ else 와 elif 문\n",
    "---   \n",
    "#### 시작하기 전에\n",
    "두 가지만 구분되는 실행 흐름 : 오전/오후, 주간/야간, 남/여, 합격/불합격"
   ]
  },
  {
   "cell_type": "code",
   "execution_count": null,
   "metadata": {},
   "outputs": [],
   "source": [
    "# 오전 / 오후\n",
    "import datetime\n",
    "dtime = datetime.datetime.now()\n",
    "if dtime.hour < 12 : print(\"오전\")\n",
    "else : print(\"오후\")"
   ]
  },
  {
   "cell_type": "markdown",
   "metadata": {},
   "source": [
    "> False로 변환되는 값 : 0, 0.0, 빈 컨테이너, 빈 문자열, None"
   ]
  },
  {
   "cell_type": "code",
   "execution_count": null,
   "metadata": {},
   "outputs": [],
   "source": [
    "if 0:\n",
    "    print(\"0은 True로 변환?\")\n",
    "else :\n",
    "    print(\"0은 False로 변환\")"
   ]
  },
  {
   "cell_type": "markdown",
   "metadata": {},
   "source": [
    "> pass 키워드 : 프로그래밍 시 전체 골격을 잡아 놓고 처리 할 내용은 나중에 구현하고자 할 때"
   ]
  },
  {
   "cell_type": "code",
   "execution_count": null,
   "metadata": {},
   "outputs": [],
   "source": [
    "number = int(input(\"정수입력 : \"))\n",
    "if number > 0:\n",
    "    # 양수일 때 미구현 상태\n",
    "    pass\n",
    "else :\n",
    "    # 음수일 때 미구현 상태\n",
    "    pass\n",
    "\n",
    "# 예외처리\n",
    "# if number > 0:\n",
    "#     raise NotImplementedError\n",
    "# else :\n",
    "#     raise NotImplementedError"
   ]
  },
  {
   "cell_type": "code",
   "execution_count": null,
   "metadata": {},
   "outputs": [],
   "source": [
    "# 사용자로부터 태어난 년도를 입력받아 띠를 리턴해주는 프로그램 작성\n",
    "year = int(input(\"태어난 년도를 입력하세요 : \"))\n",
    "animal = [\"원숭이\", \"닭\", \"개\", \"돼지\", \"쥐\", \"소\", \"호랑이\", \"토끼\", \"용\", \"뱀\", \"말\", \"양\"]\n",
    "print(\"사용자는 {}년 생으로, {}띠입니다.\".format(year, animal[year%12]))"
   ]
  },
  {
   "cell_type": "code",
   "execution_count": null,
   "metadata": {},
   "outputs": [],
   "source": [
    "# 현재 계절을 리턴해주는 프로그램 작성\n",
    "import datetime\n",
    "month = datetime.datetime.now().month\n",
    "if 3 <= month <= 5 : print(\"봄\")\n",
    "elif 6 <= month <= 8 : print(\"여름\")\n",
    "elif 9 <= month <= 11 : print(\"가을\")\n",
    "else : print(\"겨울\")"
   ]
  },
  {
   "cell_type": "markdown",
   "metadata": {},
   "source": [
    "> 짝수, 홀수 구분하는 프로그램"
   ]
  },
  {
   "cell_type": "code",
   "execution_count": null,
   "metadata": {},
   "outputs": [],
   "source": [
    "in_data = input(\"정수입력 : \")\n",
    "last_char = in_data[-1]\n",
    "\n",
    "# number = int(last_char)\n",
    "# if number == 0 or number == 2 or number == 4\\    #긴문장은 \\를 사용해서 길게 사용할 수 있다.\n",
    "#     or number == 6 or number == 8:\n",
    "#        print(\"{} 은/는 짝 수입니다.\".format(in_data))\n",
    "# else :\n",
    "#     print(\"{} 은/는 홀수입니다.\".format(in_data))\n",
    "    \n",
    "if last_char in \"02468\":\n",
    "    print(\"{} 은/는 짝 수입니다.\".format(in_data))\n",
    "else :\n",
    "    print(\"{} 은/는 홀수입니다.\".format(in_data))"
   ]
  }
 ],
 "metadata": {
  "interpreter": {
   "hash": "054c0b5073ae8ed56926c5c67113945079b283bacf1a269ae7086b3d9eebd60c"
  },
  "kernelspec": {
   "display_name": "Python 3.10.1 64-bit",
   "language": "python",
   "name": "python3"
  },
  "language_info": {
   "codemirror_mode": {
    "name": "ipython",
    "version": 3
   },
   "file_extension": ".py",
   "mimetype": "text/x-python",
   "name": "python",
   "nbconvert_exporter": "python",
   "pygments_lexer": "ipython3",
   "version": "3.10.1"
  },
  "orig_nbformat": 4
 },
 "nbformat": 4,
 "nbformat_minor": 2
}
