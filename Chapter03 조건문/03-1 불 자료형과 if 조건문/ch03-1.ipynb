{
 "cells": [
  {
   "cell_type": "markdown",
   "metadata": {},
   "source": [
    "### 03-1 불 자료형과 if 조건문\n",
    "---   \n",
    "#### 시작하기 전에\n",
    "***Boolean***은 **불리언** 또는 **불린** : **True**(참)과 **False**(거짓)을 나타내는 값"
   ]
  },
  {
   "cell_type": "code",
   "execution_count": null,
   "metadata": {},
   "outputs": [],
   "source": []
  },
  {
   "cell_type": "code",
   "execution_count": null,
   "metadata": {},
   "outputs": [],
   "source": [
    "a = True\n",
    "b = False\n",
    "print(a, b, type(a))"
   ]
  },
  {
   "cell_type": "markdown",
   "metadata": {},
   "source": [
    "> bool 만들기 : 비교연산자  "
   ]
  },
  {
   "cell_type": "code",
   "execution_count": null,
   "metadata": {},
   "outputs": [],
   "source": [
    "# 숫자비교\n",
    "print(10 == 100)\n",
    "print(10 != 100)\n",
    "# < > <= >="
   ]
  },
  {
   "cell_type": "code",
   "execution_count": null,
   "metadata": {},
   "outputs": [],
   "source": [
    "# 문자열 비교\n",
    "print(\"KOR\" == \"kor\") # False\n",
    "print(\"KOR\" == \"KOR\") # True\n",
    "print(\"가방\" != \"KOR\") # True\n",
    "print(\"A\" < \"K\") # True\n",
    "print(\"가방\" > \"하마\") # True\n",
    "# print(ord(\"가\")) # 44032\n",
    "# print(ord(\"각\")) # 44033\n",
    "# print(ord(\"하\")) # 54616"
   ]
  },
  {
   "cell_type": "code",
   "execution_count": null,
   "metadata": {},
   "outputs": [],
   "source": [
    "# 범위 비교\n",
    "x = 25\n",
    "print(25 <= x < 30) # 파이썬만 가능한 비교!! 다른 언어에서는 and 써야함"
   ]
  },
  {
   "cell_type": "markdown",
   "metadata": {},
   "source": [
    "> bool 연산하기 : 논리 연산자"
   ]
  },
  {
   "cell_type": "code",
   "execution_count": null,
   "metadata": {},
   "outputs": [],
   "source": [
    "# bool 끼리 연산 : 논리 연산자(not, and, or)\n",
    "\n",
    "# and 는 all 모든 값이 True 이어야 True 반환\n",
    "True and True # True"
   ]
  },
  {
   "cell_type": "markdown",
   "metadata": {},
   "source": [
    "> 논리 연산자와 비교 연산자를 함께 사용"
   ]
  },
  {
   "cell_type": "code",
   "execution_count": null,
   "metadata": {},
   "outputs": [],
   "source": [
    "# 비교 연산자로 비교한 결과를 논리 연산자로 최종 리턴\n",
    "10 == 10 and 10 != 5 # True\n",
    "10 > 5 or 10 < 3 # True\n",
    "not 10 > 5 # False"
   ]
  },
  {
   "cell_type": "markdown",
   "metadata": {},
   "source": [
    "> 자료형의 참과 거짓 : bool() 내장(built-in) 함수"
   ]
  },
  {
   "cell_type": "code",
   "execution_count": null,
   "metadata": {},
   "outputs": [],
   "source": [
    "print(1 + True) # ??\n",
    "print(True + True) # 2\n",
    "print(True + True + True + True) # 4\n",
    "print(bool('')) # False\n",
    "# 0, 0.0 이외의 모든 숫자는 True\n",
    "# '', \"\" 제외한 모든 문자열은 True(공백도 문자임)\n",
    "# [], (), {} 등 빈 컨테이너를 제외한 모든 자료형은 True"
   ]
  },
  {
   "cell_type": "markdown",
   "metadata": {},
   "source": [
    "> 단락 평가(short-circuit evaluation) : 표현식에 대한 평가를 생략하는 방법"
   ]
  },
  {
   "cell_type": "code",
   "execution_count": null,
   "metadata": {},
   "outputs": [],
   "source": [
    "# 첫 번째 값이 거짓이므로 두 번째 값은 확인하지 않고 거짓으로 결정\n",
    "False and True\n",
    "10 < 1 and 3 == 3 and 4 % 2 == 0 # 10 < 1 이 거짓이라서 바로 재낌\n",
    "\n",
    "# 첫 번째 값이 참이므로 두 번째 값은 확인하지 않고 참으로 결정\n",
    "True or True\n",
    "True or False\n",
    "10 < 1 or 3 == 3 or 4 % 2 == 0\n",
    "\n",
    "# 논리 연산식을 연결할 때 논리 판단 표현식의 순서에 따라서 프로그램의 선능에 영향을 준다."
   ]
  },
  {
   "cell_type": "markdown",
   "metadata": {},
   "source": [
    "> bool 의 사용 : if, while 등 조건식을 만들 때 사용"
   ]
  },
  {
   "cell_type": "code",
   "execution_count": null,
   "metadata": {},
   "outputs": [],
   "source": [
    "if True:\n",
    "    print(\"참\")\n",
    "\n",
    "n = 13\n",
    "if n % 2 == 0:\n",
    "    print(f\"{n}은 짝수입니다.\")\n",
    "else:\n",
    "    print(f\"{n}은 홀수입니다.\")\n",
    "    \n",
    "# if 1 / if list 등등 응용가능\n",
    "li = []\n",
    "if not li :\n",
    "    li.append(1)\n",
    "print(li)  # [1]\n",
    "if li :\n",
    "    li.append(2)\n",
    "print(li)  # [1, 2]"
   ]
  },
  {
   "cell_type": "code",
   "execution_count": null,
   "metadata": {},
   "outputs": [],
   "source": [
    "# 프로그램에서 참과 거짓의 쓰임새 : while\n",
    "a = ['a', 'b', 'c', 'd', 'e', 'f']\n",
    "while a :\n",
    "    a.pop()\n",
    "    print(a)"
   ]
  },
  {
   "cell_type": "markdown",
   "metadata": {},
   "source": [
    "if 조건문 : 조건에 따라 코드의 실행을 분기하고자 할 때(실행의 흐름을 제어)"
   ]
  },
  {
   "cell_type": "code",
   "execution_count": null,
   "metadata": {},
   "outputs": [],
   "source": [
    "# 사용자로부터 정수를 입력받아 양수, 음수를 판별하는 프로그램(입력데이터 유효성 검증 처리 할 것)\n",
    "while 1:\n",
    "    num = input(\"숫자를 입력하세요\")\n",
    "    try :\n",
    "        num = int(num)\n",
    "        if num > 0 : print(\"양수\")\n",
    "        elif num < 0 : print(\"음수\")\n",
    "        else : print(\"0\")\n",
    "        break\n",
    "    except : print(\"정수를 입력하세요\")"
   ]
  }
 ],
 "metadata": {
  "interpreter": {
   "hash": "054c0b5073ae8ed56926c5c67113945079b283bacf1a269ae7086b3d9eebd60c"
  },
  "kernelspec": {
   "display_name": "Python 3.10.1 64-bit",
   "language": "python",
   "name": "python3"
  },
  "language_info": {
   "codemirror_mode": {
    "name": "ipython",
    "version": 3
   },
   "file_extension": ".py",
   "mimetype": "text/x-python",
   "name": "python",
   "nbconvert_exporter": "python",
   "pygments_lexer": "ipython3",
   "version": "3.10.1"
  },
  "orig_nbformat": 4
 },
 "nbformat": 4,
 "nbformat_minor": 2
}
