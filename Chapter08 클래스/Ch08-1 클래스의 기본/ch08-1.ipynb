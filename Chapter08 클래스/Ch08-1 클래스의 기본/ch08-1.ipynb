{
 "cells": [
  {
   "cell_type": "code",
   "execution_count": null,
   "metadata": {},
   "outputs": [],
   "source": [
    "# class\n",
    "\n",
    "# 자주 함께 사용하는 함수들과 변수들을 하나의 덩어리로 묶어서 사용하자.\n",
    "# class - 함수와 변수들의 덩어리 \n",
    "# class를 복사 -> 인스턴스 생성. 객체를 하나 생성하는 것.\n",
    "\n",
    "# class 내에 있는 함수 - 메소드(method)\n",
    "# class 내에 있는 변수 - 속성(attribute)\n",
    "\n",
    "# class = 붕어빵 기계 / instance = 붕어빵"
   ]
  },
  {
   "cell_type": "code",
   "execution_count": null,
   "metadata": {},
   "outputs": [],
   "source": [
    "# 명함을 찍는 코드\n",
    "\n",
    "print('=' * 25)   \n",
    "print('Name : {}'.format('yuna'))\n",
    "print('Email : {}'.format('yuna@hanmail.net'))\n",
    "print('Address : {}'.format('Seoul'))\n",
    "print('=' * 25)"
   ]
  },
  {
   "cell_type": "code",
   "execution_count": null,
   "metadata": {},
   "outputs": [],
   "source": [
    "# def BusinessCard(name,email,address):\n",
    "#     print('=' * 25)   \n",
    "#     print(f'Name : {name}')\n",
    "#     print(f'Email : {email}')\n",
    "#     print(f'Address : {address}')\n",
    "#     print('=' * 25)\n",
    "\n",
    "# BusinessCard('namejun', 'jnj7417@naver.com', 'Mapo')"
   ]
  },
  {
   "cell_type": "markdown",
   "metadata": {},
   "source": [
    "> class - 함께 사용하는 변수와 함수들을 묶자   \n",
    "메소드가 self라는 매개변수를 받는다 - 인스턴스 메소드   \n",
    "변수도 앞에 self를 붙인다 - 인스턴스 변수   \n",
    "self - 인스턴스의 주소값"
   ]
  },
  {
   "cell_type": "code",
   "execution_count": null,
   "metadata": {},
   "outputs": [],
   "source": [
    "class BusinessCard:\n",
    "    def set_info(self, name, email, address):\n",
    "        self.name = name    # self.변수 - 인스턴스 변수 (특정 인스턴스 내에서만 공유되는 변수)\n",
    "        self.email = email\n",
    "        self.address = address\n",
    "\n",
    "    def BusinessCard(self):\n",
    "        print('=' * 25)   \n",
    "        print(f'Name : {self.name}')\n",
    "        print(f'Email : {self.email}')\n",
    "        print(f'Address : {self.address}')\n",
    "        print('=' * 25)"
   ]
  },
  {
   "cell_type": "code",
   "execution_count": null,
   "metadata": {},
   "outputs": [],
   "source": [
    "bc = BusinessCard()\n",
    "bc.set_info('namjun','jnj7417@naver.com', 'Mapo')\n",
    "bc.BusinessCard()\n",
    "\n",
    "# 인스턴스는 class를 복사한 것 - class 내의 모든 메소드, 속성들을 복사해 옴\n",
    "# 인스턴스에서 복사해 온 class의 메소드나 변수를 사용할 때 '.' 사용 => 접근자"
   ]
  },
  {
   "cell_type": "code",
   "execution_count": null,
   "metadata": {},
   "outputs": [],
   "source": [
    "# class를 사용하기 위해서 필요한 값들을 클래스를 복사하는 순간(인스턴스 생성)에 강제로 입력받자\n",
    "# ==> 클래스가 복사되는 순간 set_info()함수가 강제로 실행되는것.\n",
    "# ==> 생성자 함수 : 클래스가 복사되는 순간 강제로 실행되는 함수\n",
    "class Passport:\n",
    "    def __init__(self, name, email, address):   # instance 생성 순간 __init__ 함수 실행.\n",
    "        self.name = name    \n",
    "        self.email = email\n",
    "        self.address = address\n",
    "\n",
    "    def PassportPrint(self):\n",
    "        print('=' * 25)   \n",
    "        print(f'Name : {self.name}')\n",
    "        print(f'Email : {self.email}')\n",
    "        print(f'Address : {self.address}')\n",
    "        print('=' * 25)"
   ]
  },
  {
   "cell_type": "code",
   "execution_count": null,
   "metadata": {},
   "outputs": [],
   "source": [
    "pp = Passport('namjun', 'jnj7417@naver.com', 'Mapo')\n",
    "pp.PassportPrint()"
   ]
  },
  {
   "cell_type": "markdown",
   "metadata": {},
   "source": [
    "> class 변수"
   ]
  },
  {
   "cell_type": "code",
   "execution_count": null,
   "metadata": {},
   "outputs": [],
   "source": [
    "class Circle :\n",
    "    import math\n",
    "    pi = 3.14  # class 변수 : 특정 인스턴스 내부가 아닌 모든 인스턴스에서 공유하는 변수\n",
    "    def __init__(self, radius):\n",
    "        self.radius = radius\n",
    "    def area(self):\n",
    "        circle_area = Circle.pi * pow(self.radius, 2)\n",
    "        return circle_area\n",
    "    def perimeter(self):\n",
    "        circle_perimeter = Circle.pi*2*self.radius\n",
    "        return circle_perimeter"
   ]
  },
  {
   "cell_type": "code",
   "execution_count": null,
   "metadata": {},
   "outputs": [],
   "source": [
    "cir = Circle(2)\n",
    "print(cir.area())\n",
    "print(cir.perimeter())\n",
    "print(cir.pi, cir.radius)"
   ]
  },
  {
   "cell_type": "markdown",
   "metadata": {},
   "source": [
    "> 상속"
   ]
  },
  {
   "cell_type": "code",
   "execution_count": null,
   "metadata": {},
   "outputs": [],
   "source": [
    "class Parent:\n",
    "    def can_sing(self):\n",
    "        print('sing a song')"
   ]
  },
  {
   "cell_type": "code",
   "execution_count": null,
   "metadata": {},
   "outputs": [],
   "source": [
    "p = Parent()\n",
    "p.can_sing()"
   ]
  },
  {
   "cell_type": "code",
   "execution_count": null,
   "metadata": {},
   "outputs": [],
   "source": [
    "class Child(Parent): # Parent class를 상속\n",
    "    def can_dance(self):\n",
    "        print('do dance')"
   ]
  },
  {
   "cell_type": "code",
   "execution_count": null,
   "metadata": {},
   "outputs": [],
   "source": [
    "c = Child()\n",
    "c.can_sing()\n",
    "c.can_dance()"
   ]
  },
  {
   "cell_type": "code",
   "execution_count": null,
   "metadata": {},
   "outputs": [],
   "source": [
    "class Cal:\n",
    "    def input_nums(self, num1, num2):\n",
    "        self.num1 = num1\n",
    "        self.num2 = num2\n",
    "    def addf(self):\n",
    "        print(self.num1 + self.num2)\n",
    "    def subf(self):\n",
    "        print(self.num1 - self.num2)\n",
    "    def mulf(self):\n",
    "        print(self.num1 * self.num2)\n",
    "    def divf(self):\n",
    "        print(self.num1 / self.num2)"
   ]
  },
  {
   "cell_type": "code",
   "execution_count": null,
   "metadata": {},
   "outputs": [],
   "source": [
    "a = Cal()\n",
    "a.input_nums(8,2)\n",
    "a.addf()\n",
    "a.subf()\n",
    "a.mulf()\n",
    "a.divf()"
   ]
  },
  {
   "cell_type": "code",
   "execution_count": null,
   "metadata": {},
   "outputs": [],
   "source": [
    "class Calcu(Cal):\n",
    "    def powf(self):\n",
    "        print(self.num1**self.num2)"
   ]
  },
  {
   "cell_type": "code",
   "execution_count": null,
   "metadata": {},
   "outputs": [],
   "source": [
    "b = calcu()\n",
    "b.input_nums(10,2)\n",
    "b.addf()\n",
    "b.subf()\n",
    "b.mulf()\n",
    "b.divf()\n",
    "b.powf()"
   ]
  },
  {
   "cell_type": "code",
   "execution_count": null,
   "metadata": {},
   "outputs": [],
   "source": [
    "class SafeCal(Cal):\n",
    "    def divf(self):   # 부모 클래스의 메소드를 수정 ====> 오버라이드(override)\n",
    "        if self.num2 == 0:\n",
    "            print(0)\n",
    "        else:\n",
    "            print(self.num1/self.num2)"
   ]
  },
  {
   "cell_type": "markdown",
   "metadata": {},
   "source": [
    "> 클래스 메소드, 스태틱 메소드"
   ]
  },
  {
   "cell_type": "code",
   "execution_count": 53,
   "metadata": {},
   "outputs": [],
   "source": [
    "class Sam:\n",
    "    data = 'python' # 클래스 변수   \n",
    "    def __init__(self):\n",
    "        self.data1 = 'korea' # 인스턴스 변수\n",
    "    def instance_method(self):\n",
    "        print('instance method :', self.data1)\n",
    "\n",
    "    # 클래스 메소드, cls 키워드로 클래스 변수에 접근, 매개변수 cls를 받음\n",
    "    @classmethod\n",
    "    def class_method(cls):\n",
    "        print('class method :', cls.data)\n",
    "    \n",
    "    # 스태틱 메소드, self, cls 매개변수를 받지 않음\n",
    "    @staticmethod\n",
    "    def static_method():\n",
    "        print('static method :', Sam.data)"
   ]
  },
  {
   "cell_type": "code",
   "execution_count": 56,
   "metadata": {},
   "outputs": [
    {
     "name": "stdout",
     "output_type": "stream",
     "text": [
      "instance method : korea\n",
      "class method : python\n",
      "static method : python\n",
      "class method : python\n"
     ]
    }
   ],
   "source": [
    "s = Sam()\n",
    "s.instance_method()\n",
    "s.class_method()\n",
    "Sam.static_method()\n",
    "Sam.class_method()\n",
    "# 클래스 메소드나 스태틱 메소드는 객체를 생성하지 않고 클래스명으로 호출 가능\n",
    "# 클래스 메소드는 cls 키워드를 사용\n",
    "# 스태틱 메소드는 cls 키워드를 사용하지 않고, 클래스 명을 사용하여 호출\n",
    "# 따라서 클래스 메소드, 스태틱 메소드는 인스턴스 변수를 사용할 수 없다.(클래스 변수만 사용해야 한다.)"
   ]
  },
  {
   "cell_type": "markdown",
   "metadata": {},
   "source": [
    "> 은닉화 : 클래스 내에서 변수의 값을 노출시키고 싶지 않을 때, 변수를 은닉화"
   ]
  },
  {
   "cell_type": "code",
   "execution_count": 1,
   "metadata": {},
   "outputs": [],
   "source": [
    "import math\n",
    "class Circle:\n",
    "    def __init__(self, radius):\n",
    "        self.__radius = radius  # __변수명 : 외부에서 접근 금지. 클래스 내의 메소드에서만 접근 가능.\n",
    "    def get_circumference(self):\n",
    "        return 2 * math.pi * self.__radius\n",
    "    def get_area(self):\n",
    "        return math.pi * (self.__radius ** 2)\n",
    "    # 게터 : 은닉된 변수의 값을 얻어올 수 있는 메서드   \n",
    "    # 세터 : 은닉된 변수의 값을 수정할 수 있도록 하는 메서드\n",
    "    @property\n",
    "    def get_radius(self):\n",
    "        return self.__radius\n",
    "    @get_radius.setter\n",
    "    def set_radius(self, value):\n",
    "        if value <= 0:\n",
    "            raise TypeError(\"길이는 양의 숫자이어야 합니다.\")\n",
    "        self.__radius = value"
   ]
  },
  {
   "cell_type": "code",
   "execution_count": 14,
   "metadata": {},
   "outputs": [
    {
     "name": "stdout",
     "output_type": "stream",
     "text": [
      "12.566370614359172\n",
      "12.566370614359172\n",
      "2\n",
      "314.1592653589793\n"
     ]
    }
   ],
   "source": [
    "cir = Circle(2)\n",
    "print(cir.get_circumference())\n",
    "print(cir.get_area())\n",
    "# cir.__radius  # 외부에서 접근 안됨\n",
    "# Circle.__radius\n",
    "print(cir.get_radius)\n",
    "cir.set_radius = 10\n",
    "print(cir.get_area())"
   ]
  }
 ],
 "metadata": {
  "interpreter": {
   "hash": "054c0b5073ae8ed56926c5c67113945079b283bacf1a269ae7086b3d9eebd60c"
  },
  "kernelspec": {
   "display_name": "Python 3.10.1 64-bit",
   "language": "python",
   "name": "python3"
  },
  "language_info": {
   "codemirror_mode": {
    "name": "ipython",
    "version": 3
   },
   "file_extension": ".py",
   "mimetype": "text/x-python",
   "name": "python",
   "nbconvert_exporter": "python",
   "pygments_lexer": "ipython3",
   "version": "3.10.1"
  },
  "orig_nbformat": 4
 },
 "nbformat": 4,
 "nbformat_minor": 2
}
