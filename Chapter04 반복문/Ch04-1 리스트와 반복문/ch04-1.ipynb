{
 "cells": [
  {
   "cell_type": "markdown",
   "metadata": {},
   "source": [
    "### 04-1 리스트와 반복문\n",
    "---\n",
    "#### 시작하기 전에\n",
    "**리스트**란 '목록'이며 여러가지 자료를 저장할 수 있는 자료이다. 숫자, 문자열 등의 자료를 모아서 사용하는 자료"
   ]
  },
  {
   "cell_type": "code",
   "execution_count": null,
   "metadata": {},
   "outputs": [],
   "source": []
  },
  {
   "cell_type": "code",
   "execution_count": null,
   "metadata": {},
   "outputs": [],
   "source": [
    "# 리스트이름 = [요소1, 요소2, 요소3, ...]"
   ]
  },
  {
   "cell_type": "markdown",
   "metadata": {},
   "source": [
    "> 리스트 선언하고 요소(element)에 접근하기 : 리스트 인덱싱(indexing)과 슬라이싱(slicing)"
   ]
  },
  {
   "cell_type": "code",
   "execution_count": null,
   "metadata": {},
   "outputs": [],
   "source": [
    "li1 = [3,4,5,125,1363247,1241324,31]\n",
    "li2 = [\"안\", \"녕\", \"하\", \"세\", \"요\"]\n",
    "li3 = [273, 32, 103, \"문자열\", [True, False, [1,2,3]], \"Hello\"]\n",
    "li3[4][0] == True # True\n",
    "li3[4][2][1] == 2 # True\n",
    "\n",
    "Korea = [[\"강남구\", [[\"청솔\", \"현대\", \"오공\"], \"서교동\"], \"종로구\"], \"대전\", \"대구\", \"부산\"]\n",
    "Korea[0][1][0][2] == \"오공\" # True"
   ]
  },
  {
   "cell_type": "code",
   "execution_count": null,
   "metadata": {},
   "outputs": [],
   "source": [
    "# 리스트의 특정 요소 변경\n",
    "li3 = [273, 32, 103, \"문자열\", [True, False, [1,2,3]], \"Hello\"]\n",
    "li3[4][0] = \"변경된True\"\n",
    "print(li3)"
   ]
  },
  {
   "cell_type": "markdown",
   "metadata": {},
   "source": [
    "> 리스트에서의 IndexError(예외)"
   ]
  },
  {
   "cell_type": "code",
   "execution_count": null,
   "metadata": {},
   "outputs": [],
   "source": [
    "a = [1,2,3,4]\n",
    "# a[5]  < 인덱스에러"
   ]
  },
  {
   "cell_type": "markdown",
   "metadata": {},
   "source": [
    "> 리스트 연산자 : +, *, len()"
   ]
  },
  {
   "cell_type": "code",
   "execution_count": null,
   "metadata": {},
   "outputs": [],
   "source": [
    "s = [1,2,3]\n",
    "t = [4,5,6]\n",
    "print(t + s)\n",
    "T = t * 3\n",
    "print(T)\n",
    "print(len(T))"
   ]
  },
  {
   "cell_type": "markdown",
   "metadata": {},
   "source": [
    "> 리스트에 요소 추가하기 : append(), insert()"
   ]
  },
  {
   "cell_type": "code",
   "execution_count": null,
   "metadata": {},
   "outputs": [],
   "source": [
    "# 리스트.append(요소) : 리스트 맨 뒤에 요소가 추가\n",
    "# 리스트.insert(인덱스, 요소) : 인덱스에 요소 추가(파라메터 2개 필수)\n",
    "\n",
    "data = [1,2,3]\n",
    "data.append(4)\n",
    "data.append(5)\n",
    "print(data)\n",
    "\n",
    "data2 = []\n",
    "for i in range(1, 31, 2) : data2.append(i)\n",
    "print(data2)\n",
    "\n",
    "data2.insert(1, \"2\")\n",
    "print(data2)\n",
    "\n",
    "# 리스트.extend(리스트) : 리스트를 확장  (+와 같은기능)\n",
    "dataA = ['a', 'b', 'c']\n",
    "dataB = ['e', 'f', 'g']\n",
    "dataA.extend(dataB)\n",
    "print(dataA)"
   ]
  },
  {
   "cell_type": "markdown",
   "metadata": {},
   "source": [
    "> 리스트에 요소 제거하기"
   ]
  },
  {
   "cell_type": "code",
   "execution_count": null,
   "metadata": {},
   "outputs": [],
   "source": [
    "# 인덱스 사용\n",
    "li = ['a', 'b', 'c', 'd', 'e', 'f']\n",
    "\n",
    "# 1. del()\n",
    "    # del li \n",
    "    # print(li) < li 자체가 사라지는거라 에러남\n",
    "del li[1]\n",
    "print(li)\n",
    "del li[:2]\n",
    "print(li)\n",
    "\n",
    "# 2. 리스트.pop(인덱스)\n",
    "print(\"삭제요소 :\", li.pop(1), \"\\n삭제후 리스트 :\", li)\n",
    "print(\"삭제요소 :\", li.pop(), \"\\n삭제후 리스트 :\", li)"
   ]
  },
  {
   "cell_type": "code",
   "execution_count": null,
   "metadata": {},
   "outputs": [],
   "source": [
    "# 값으로 제거\n",
    "\n",
    "# 3. 리스트.remove(값)\n",
    "lis = [1, 2, 3, 4, 1, 2, 1, 1, 1, 2]\n",
    "lis.remove(1) # 리스트 내부에 해당하는 값 중 가장 먼저 발견되는 하나만 제거\n",
    "print(lis)\n",
    "lis.remove(1)\n",
    "lis.remove(1)\n",
    "print(lis)\n",
    "\n",
    "# 4. 모두 제거 : clear()\\\n",
    "listK = [1, 2, 3, 4, 5]\n",
    "print(listK)\n",
    "listK.clear()\n",
    "print(listK)"
   ]
  },
  {
   "cell_type": "markdown",
   "metadata": {},
   "source": [
    "> 리스트 내부에 있는지 없는지 확인하기 : in / not in 연산자"
   ]
  },
  {
   "cell_type": "code",
   "execution_count": null,
   "metadata": {},
   "outputs": [],
   "source": [
    "print(4 in [1,2,3,4,5])\n",
    "\n",
    "listP = [1451, 123, 1516, 535]\n",
    "val = 99\n",
    "if val not in listP:\n",
    "    listP.append(val)\n",
    "print(listP)"
   ]
  },
  {
   "cell_type": "markdown",
   "metadata": {},
   "source": [
    "> for 반복문(looping)"
   ]
  }
 ],
 "metadata": {
  "interpreter": {
   "hash": "054c0b5073ae8ed56926c5c67113945079b283bacf1a269ae7086b3d9eebd60c"
  },
  "kernelspec": {
   "display_name": "Python 3.10.1 64-bit",
   "language": "python",
   "name": "python3"
  },
  "language_info": {
   "codemirror_mode": {
    "name": "ipython",
    "version": 3
   },
   "file_extension": ".py",
   "mimetype": "text/x-python",
   "name": "python",
   "nbconvert_exporter": "python",
   "pygments_lexer": "ipython3",
   "version": "3.10.1"
  },
  "orig_nbformat": 4
 },
 "nbformat": 4,
 "nbformat_minor": 2
}
