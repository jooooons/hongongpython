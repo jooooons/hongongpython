{
 "cells": [
  {
   "cell_type": "markdown",
   "metadata": {},
   "source": [
    "### 04-2 딕셔너리와 반복문\n",
    "---\n",
    "#### 시작하기 전에\n",
    "**리스트**가 '인덱스를 기반으로 값을 저장하는 것'이라면, ***딕셔너리***는 '키(key)'를 기반으로 값을 저장한다."
   ]
  },
  {
   "cell_type": "code",
   "execution_count": null,
   "metadata": {},
   "outputs": [],
   "source": [
    "print(\"문자열  :\", type(\"\"))\n",
    "print(\"리스트  :\", type([]))\n",
    "print(\"튜플    :\", type(()))\n",
    "print(\"세트    :\", type({0,}))\n",
    "print(\"딕셔너리:\", type({}))"
   ]
  },
  {
   "cell_type": "markdown",
   "metadata": {},
   "source": [
    "> 딕셔너리 선언하기"
   ]
  },
  {
   "cell_type": "code",
   "execution_count": null,
   "metadata": {},
   "outputs": [],
   "source": [
    "# 딕셔너리 = {key:value, 키:값, ...}\n",
    "dic = {\"A\" : 10, \"B\" : 20, 'C' : 30, 1 : 40, False : 50}\n",
    "print(dic)\n",
    "\n",
    "my_movie = {\"name\" : \"어벤저스 엔드게임\", \"type\" : \"히어로 무비\"}\n",
    "print(my_movie)\n",
    "# 딕셔너리 왜 필요한가\n",
    "my_info1 = [\"김철수\", \"27\", \"010-1234-5678\", \"서울 강남구\", 174]\n",
    "my_info2 = {\"name\":\"김철수\", \"age\":27, \"phone\":\"010-1234-5678\", \"addr\":\"서울 강남구\", \"IQ\":174}"
   ]
  },
  {
   "cell_type": "markdown",
   "metadata": {},
   "source": [
    "> 딕셔너리 요소에 접근하기"
   ]
  },
  {
   "cell_type": "code",
   "execution_count": null,
   "metadata": {},
   "outputs": [],
   "source": [
    "# 리스트 접근[인덱스]\n",
    "print(my_info1[4]) \n",
    "# 딕셔너리 접근[키(key)]\n",
    "print(my_info2['IQ'])\n",
    "\n",
    "# 딕셔너리는 인덱스로 접근하는게 아니므로 순서가 바뀌어도 같은 딕셔너리\n",
    "di = {'02':'서울', '051':'부산', '032':'인천', '043':'충북'}\n",
    "di2 = {'02':'서울', '043':'충북', '051':'부산', '032':'인천'}\n",
    "di == di2 # Ture"
   ]
  },
  {
   "cell_type": "code",
   "execution_count": null,
   "metadata": {},
   "outputs": [],
   "source": [
    "district = {\n",
    "    2:['종로', '용산', '강남', '마포', '영등포'],\n",
    "    51:'해운대',\n",
    "    43:['청주','충주','제천'],\n",
    "    32:['부평', '계양']\n",
    "}\n",
    "print(district)\n",
    "\n",
    "# 접근 방법\n",
    "print(district[51]) # 해운대\n",
    "print(district[2][3]) # 마포\n",
    "\n",
    "# 값 변경\n",
    "district[51] = ['해운대', '서면']\n",
    "print(district)\n",
    "\n",
    "# 딕셔너리[추가할 키] = 추가할 값\n",
    "district[53] = None\n",
    "print(district)\n",
    "district[53] = '달서'\n",
    "print(district)"
   ]
  },
  {
   "cell_type": "code",
   "execution_count": null,
   "metadata": {},
   "outputs": [],
   "source": [
    "dictionary = {\n",
    "    'interpreter' : '프로그래밍 소스 코드를 곧 바로 실행해 주는 프로그램',\n",
    "    'variable' : '값을 저장할 때 사용하는 식별자',\n",
    "    'function' : '어떤 동작 또는 기능을 하도록 기술하는 코드'\n",
    "}\n",
    "\n",
    "search_word = input(\"검색\")\n",
    "if search_word in dictionary.keys():\n",
    "    print(search_word, \":\", dictionary[search_word])\n",
    "else:\n",
    "    print(f\"'{search_word}'에 대한 검색 결과가 없습니다.\")\n",
    "    \n",
    "dictionary[\"keywod\"] = \"언어 내에서 문법적인 용도로 사용되고 있는 단어\"\n",
    "print(\"[keyword]추가\", dictionary)"
   ]
  },
  {
   "cell_type": "code",
   "execution_count": null,
   "metadata": {},
   "outputs": [],
   "source": [
    "# 딕셔너리에 요소 제거하기\n",
    "# del 딕셔너리[삭제할키]\n",
    "import pprint\n",
    "songs = {\n",
    "    '아이유' : ['에잇', '너의 의미', '밤편지', 'Love poem'],\n",
    "    '이문세' : ['소녀', '옛사랑', '광화문 연가', '소녀'],\n",
    "    '블랙핑크' : ['마지막처럼', '불장난', 'SO HOT'],\n",
    "    'BTS' : ['Dynamite', '전하지 못한 진심', 'My universe']\n",
    "}\n",
    "print(\"요소 제거 이전 : \")\n",
    "pprint.pprint(songs)\n",
    "# 요소를 제거\n",
    "del songs[\"이문세\"]\n",
    "print(\"\\n요소 제거 이후 : \")\n",
    "pprint.pprint(songs)\n",
    "# 'SO HOT' 제거\n",
    "del songs['블랙핑크'][2]\n",
    "print()\n",
    "pprint.pprint(songs)"
   ]
  },
  {
   "cell_type": "markdown",
   "metadata": {},
   "source": [
    "> KeyError 예외"
   ]
  },
  {
   "cell_type": "code",
   "execution_count": null,
   "metadata": {},
   "outputs": [],
   "source": [
    "di = {\"A+\":95, \"A\":90, 'B+':85, 'B':80, \"D\":None}\n",
    "print(di[\"D\"])\n",
    "# di[\"C+\"] # KeyError: 'C+'"
   ]
  },
  {
   "cell_type": "markdown",
   "metadata": {},
   "source": [
    "> 딕셔너리 내부에 키(key)가 있는지 확인하기"
   ]
  },
  {
   "cell_type": "code",
   "execution_count": null,
   "metadata": {},
   "outputs": [],
   "source": [
    "di = {\"A+\":95, \"A\":90, 'B+':85, 'B':80, \"D\":60}\n",
    "key = input(\"등급을 입력하시오: \")\n",
    "# key가 있는지\n",
    "if key in di:\n",
    "    print(\"{}학점은 {}점 이상입니다.\".format(key, di[key]))\n",
    "# key가 없는지\n",
    "else:\n",
    "    print(\"해당 등급이 없습니다\")\n",
    "    res = input(\"등록해 드릴까요? (y/n) \")\n",
    "    if res == 'y':\n",
    "        value = int(input(\"등급에 해당하는 점수를 입력하세요: \"))\n",
    "        di[key] = value\n",
    "        print(di)\n",
    "        print(\"학점이 정상적으로 등록되었습니다.\")\n",
    "    else : print(\"종료합니다.\")"
   ]
  },
  {
   "cell_type": "markdown",
   "metadata": {},
   "source": [
    "> 키의 존재와 관련된 get() 함수"
   ]
  },
  {
   "cell_type": "code",
   "execution_count": null,
   "metadata": {},
   "outputs": [],
   "source": [
    "# get() 함수는 딕셔너리 키로 값을 추출\n",
    "# 존재하지 않는 키에 접근할 경우 'KeyError'를 발생시키지 않고 'None'을 반환\n",
    "di = {\"A+\":95, \"A\":90, 'B+':85, 'B':80, \"D\":60}\n",
    "print(di.get('C'))   # print(di['C'])를 입력하면 KeyError\n",
    "\n",
    "if \"C+\" not in di:\n",
    "    print('C+ does not exist')\n",
    "if di.get('C+') == None:\n",
    "    print('C+ does not exist')"
   ]
  },
  {
   "cell_type": "markdown",
   "metadata": {},
   "source": [
    "> for 반복문 : 딕셔너리와 함께 사용하기"
   ]
  },
  {
   "cell_type": "code",
   "execution_count": null,
   "metadata": {},
   "outputs": [],
   "source": [
    "# for i in \"반복객체\" :\n",
    "di = {\"A+\":95, \"A\":90, 'B+':85, 'B':80, \"D\":60}\n",
    "for i in di:\n",
    "    print(\"{:3s}등급은 {}점 이상\".format(i, di[i]))"
   ]
  }
 ],
 "metadata": {
  "interpreter": {
   "hash": "054c0b5073ae8ed56926c5c67113945079b283bacf1a269ae7086b3d9eebd60c"
  },
  "kernelspec": {
   "display_name": "Python 3.10.1 64-bit",
   "language": "python",
   "name": "python3"
  },
  "language_info": {
   "codemirror_mode": {
    "name": "ipython",
    "version": 3
   },
   "file_extension": ".py",
   "mimetype": "text/x-python",
   "name": "python",
   "nbconvert_exporter": "python",
   "pygments_lexer": "ipython3",
   "version": "3.10.1"
  },
  "orig_nbformat": 4
 },
 "nbformat": 4,
 "nbformat_minor": 2
}
