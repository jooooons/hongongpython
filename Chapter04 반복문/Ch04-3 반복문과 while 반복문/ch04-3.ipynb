{
 "cells": [
  {
   "cell_type": "markdown",
   "metadata": {},
   "source": [
    "### 04-3 range와 while 반복문\n",
    "---\n",
    "#### 시작하기 전에\n",
    "***range***는 반복문과 함께 많이 사용되는 자료형. 특정한 횟수만큼 반복해서 실행하고자 할 때 사용\n",
    "> 범위"
   ]
  },
  {
   "cell_type": "code",
   "execution_count": null,
   "metadata": {},
   "outputs": [],
   "source": [
    "# 범위(range) 자료형 선언\n",
    "r = range(10) # 0~9\n",
    "print(r, type(r))"
   ]
  },
  {
   "cell_type": "markdown",
   "metadata": {},
   "source": [
    "> list와 range를 함께 사용하기"
   ]
  },
  {
   "cell_type": "code",
   "execution_count": null,
   "metadata": {},
   "outputs": [],
   "source": [
    "print(list(\"Python\"))\n",
    "print(list(range(20)))\n",
    "\n",
    "# 100 보다 작은 3의 배수 리스트 생성하세요~\n",
    "print(list(range(3,100,3)))"
   ]
  },
  {
   "cell_type": "code",
   "execution_count": null,
   "metadata": {},
   "outputs": [],
   "source": [
    "# 카운트 다운\n",
    "import time\n",
    "for i in range(10,0,-1):\n",
    "    print(i, end=' ')\n",
    "    time.sleep(1)\n",
    "print(\"\\n💥💥💥💥💥💥💥💥\")"
   ]
  },
  {
   "cell_type": "code",
   "execution_count": null,
   "metadata": {},
   "outputs": [],
   "source": [
    "subjects = [\"국어\", \"영어\", \"수학\", \"컴퓨터\", \"물리\"]\n",
    "for i in range(len(subjects)):\n",
    "    print(i+1, \"교시\", subjects[i])"
   ]
  },
  {
   "cell_type": "markdown",
   "metadata": {},
   "source": [
    "> while 반복문"
   ]
  },
  {
   "cell_type": "code",
   "execution_count": null,
   "metadata": {},
   "outputs": [],
   "source": [
    "# 1. for looping : 특정 횟수만큼 반복하는 경우(반복 횟수가 정해져 있을 때)\n",
    "# 2. while looping : 특정 조건에 대하여 반복하는 경우(조건식이 만족되는동안 반복)\n",
    "\n",
    "# 횟수 반복\n",
    "for i in range(15):\n",
    "    print(i, end=\" \")\n",
    "    time.sleep(0.5)\n",
    "print(\"\\nfor 반복문 종료\")\n",
    "# 조건 반복\n",
    "n = 0\n",
    "while n < 15:\n",
    "    print(n, end=\" \")\n",
    "    n += 1\n",
    "    time.sleep(0.5)\n",
    "print(\"\\nwhile 반복문 종료\")"
   ]
  },
  {
   "cell_type": "code",
   "execution_count": null,
   "metadata": {},
   "outputs": [],
   "source": [
    "import string\n",
    "code = \"\"\"!\"#$P%&'(y)*+,t-./:;h<=>?o@[\\]^_`n{|}~\"\"\"\n",
    "ans = []\n",
    "for i in code:\n",
    "    if i not in string.punctuation:\n",
    "        ans.append(i)\n",
    "print(''.join(ans))"
   ]
  },
  {
   "cell_type": "markdown",
   "metadata": {},
   "source": [
    "> while 반복문 : 시간을 기반으로 반복하기"
   ]
  },
  {
   "cell_type": "code",
   "execution_count": null,
   "metadata": {},
   "outputs": [],
   "source": [
    "# 세계 표준시(UTC) : 1970.01.01. 00:00:00 기준 현재까지의 누적 초\n",
    "import time\n",
    "print(\"UTC : \", time.time())\n",
    "\n",
    "count = 0\n",
    "start_time = time.time()\n",
    "target_time = start_time + 1 # 기본단위가 초!!\n",
    "\n",
    "while time.time() < target_time:\n",
    "    count += 1\n",
    "\n",
    "end_time = time.time()\n",
    "print(\"{}초 동안 {}회 반복했습니다.\".format(end_time-start_time, count))"
   ]
  }
 ],
 "metadata": {
  "interpreter": {
   "hash": "054c0b5073ae8ed56926c5c67113945079b283bacf1a269ae7086b3d9eebd60c"
  },
  "kernelspec": {
   "display_name": "Python 3.10.1 64-bit",
   "language": "python",
   "name": "python3"
  },
  "language_info": {
   "codemirror_mode": {
    "name": "ipython",
    "version": 3
   },
   "file_extension": ".py",
   "mimetype": "text/x-python",
   "name": "python",
   "nbconvert_exporter": "python",
   "pygments_lexer": "ipython3",
   "version": "3.10.1"
  },
  "orig_nbformat": 4
 },
 "nbformat": 4,
 "nbformat_minor": 2
}
