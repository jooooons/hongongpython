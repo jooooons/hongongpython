{
 "cells": [
  {
   "cell_type": "markdown",
   "metadata": {},
   "source": [
    "### 06-2 예외 고급\n",
    "---\n",
    "#### 예외(exception object) 발생시키기\n",
    "\n",
    "> raise 구문"
   ]
  },
  {
   "cell_type": "code",
   "execution_count": null,
   "metadata": {},
   "outputs": [],
   "source": [
    "# 타 언어 예외처리 : throw(예외를 던지고) ---> try ~ catch ~ finally 예외를 받아 처리\n",
    "\n",
    "class Biz_InvalidError(Exception):\n",
    "    def __init__(self, message):\n",
    "        Exception.__init__(self)\n",
    "        self.message = message\n",
    "    def __str__(self):\n",
    "        return self.message\n",
    "\n",
    "# 음수, 0이 나오면 안되는 상황\n",
    "def biz_method(number):\n",
    "    if number > 0:\n",
    "        print(\"유효한 입력입니다\")\n",
    "    else:\n",
    "        raise Biz_InvalidError(\"업무상 자연수만 입력해주세요!!!\")\n",
    "\n",
    "print(\"=================================================================\")\n",
    "print(\"프로그램 시작\")\n",
    "data_in = input(\"정수입력\")\n",
    "number = int(data_in)\n",
    "try :\n",
    "    biz_method(number)\n",
    "except Biz_InvalidError as eb:\n",
    "    print(str(eb))\n",
    "print(\"프로그램 종료\")"
   ]
  }
 ],
 "metadata": {
  "interpreter": {
   "hash": "054c0b5073ae8ed56926c5c67113945079b283bacf1a269ae7086b3d9eebd60c"
  },
  "kernelspec": {
   "display_name": "Python 3.10.1 64-bit",
   "language": "python",
   "name": "python3"
  },
  "language_info": {
   "codemirror_mode": {
    "name": "ipython",
    "version": 3
   },
   "file_extension": ".py",
   "mimetype": "text/x-python",
   "name": "python",
   "nbconvert_exporter": "python",
   "pygments_lexer": "ipython3",
   "version": "3.10.1"
  },
  "orig_nbformat": 4
 },
 "nbformat": 4,
 "nbformat_minor": 2
}
