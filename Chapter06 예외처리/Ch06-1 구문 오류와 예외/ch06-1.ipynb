{
 "cells": [
  {
   "cell_type": "markdown",
   "metadata": {},
   "source": [
    "### 06-1 구문 오류와 예외\n",
    "---\n",
    "#### 시작하기 전에\n",
    "***에러(error)*** 의 발생과 처리"
   ]
  },
  {
   "cell_type": "code",
   "execution_count": null,
   "metadata": {},
   "outputs": [],
   "source": []
  },
  {
   "cell_type": "code",
   "execution_count": null,
   "metadata": {},
   "outputs": [],
   "source": [
    "# 1. 컴파일 에러(syntax error) : 실행 전에 발생하는 문법오류\n",
    "# 2. 런타임 에러(runtime error) : 실행 중에 발생하는 오류, 예외(Exception)\n",
    "# 3. 논리, 의미론적 에러(Logic, Semantic Error) :\n",
    "#       결과가 예상과 달리 의도한 작업을 수행하지 못함(에러 메시지가 없어 수정시 어려움)"
   ]
  },
  {
   "cell_type": "markdown",
   "metadata": {},
   "source": [
    "> 구문 오류"
   ]
  },
  {
   "cell_type": "code",
   "execution_count": null,
   "metadata": {},
   "outputs": [],
   "source": [
    "# if a>0\n",
    "# int i = 0;"
   ]
  },
  {
   "cell_type": "markdown",
   "metadata": {},
   "source": [
    "> 예외(exception)"
   ]
  },
  {
   "cell_type": "code",
   "execution_count": null,
   "metadata": {},
   "outputs": [],
   "source": [
    "print(\"프로그램이 시작되었습니다\")\n",
    "\n",
    "# 런타임 오류\n",
    "text = \"abc\"\n",
    "# text[3] # IndexError\n",
    "\n",
    "i = 0\n",
    "# result = 3.14 / i # ZeroDivisionError\n",
    "\n",
    "print(\"프로그램이 종료되었습니다\")"
   ]
  },
  {
   "cell_type": "markdown",
   "metadata": {},
   "source": [
    "> 기본 예외 처리(exception handling)"
   ]
  },
  {
   "cell_type": "code",
   "execution_count": null,
   "metadata": {},
   "outputs": [],
   "source": [
    "print(\"프로그램 시작\")\n",
    "\n",
    "user_input = input(\"입력한 정수의 제곱근을 구합니다 : \")\n",
    "\n",
    "if user_input.isdigit(): print(f\"{user_input}의 제곱근은 {int(user_input)**(1/2)}입니다.\")\n",
    "else: print(\"정수가 아닙니다. 프로그램을 종료합니다.\")\n",
    "\n",
    "print(\"프로그램 종료\")"
   ]
  },
  {
   "cell_type": "markdown",
   "metadata": {},
   "source": [
    "> try ~ except"
   ]
  },
  {
   "cell_type": "code",
   "execution_count": null,
   "metadata": {},
   "outputs": [],
   "source": [
    "print(\"프로그램이 시작되었습니다.=====================\")\n",
    "i = 0\n",
    "PI = 3.141592\n",
    "try :\n",
    "    # 예외가 발생할 가능성이 있는 코드\n",
    "    result = PI / i\n",
    "except ZeroDivisionError as ex:\n",
    "    # 예외에 해당되는 처리 코드 작성\n",
    "    print(\"예외가 발생되었습니다.\",ex)\n",
    "print(\"프로그램이 정상적으로 종료되었습니다.===========\")"
   ]
  },
  {
   "cell_type": "code",
   "execution_count": null,
   "metadata": {},
   "outputs": [],
   "source": [
    "print(\"프로그램이 시작되었습니다.================================\")\n",
    "list_txt = [\"52\", \"273\", \"A\", \"파이썬\", \"103\"]\n",
    "numbers = []\n",
    "for i in list_txt:\n",
    "    try :\n",
    "        numbers.append(float(i))\n",
    "    except Exception as ex:\n",
    "        print(\"예외가 발생했습니다.\", ex)\n",
    "        # pass\n",
    "print(numbers)\n",
    "print(\"프로그램이 정상적으로 종료되었습니다.======================\")"
   ]
  },
  {
   "cell_type": "markdown",
   "metadata": {},
   "source": [
    "> try ~ except ~ except ~ except ~ ..."
   ]
  },
  {
   "cell_type": "code",
   "execution_count": null,
   "metadata": {},
   "outputs": [],
   "source": [
    "index = [0,1,2]\n",
    "\n",
    "try :\n",
    "    index[3] = 3\n",
    "    result = index[1] / index[0]\n",
    "    int(\"가\")\n",
    "    print(\"hello\")\n",
    "except IndexError as ei : \n",
    "    print(str(ei))\n",
    "except ZeroDivisionError as ez : \n",
    "    print(str(ez))\n",
    "except Exception as ex : \n",
    "    print(str(ex))\n"
   ]
  },
  {
   "cell_type": "markdown",
   "metadata": {},
   "source": [
    "> try ~ except ~ else"
   ]
  },
  {
   "cell_type": "code",
   "execution_count": null,
   "metadata": {},
   "outputs": [],
   "source": [
    "try :\n",
    "    number_input = int(input(\"정수입력: \"))\n",
    "except Exception as e:\n",
    "    print(\"정수입력 예외발생\", str(e))\n",
    "else:\n",
    "    print(number_input * 100)"
   ]
  },
  {
   "cell_type": "markdown",
   "metadata": {},
   "source": [
    "> finally 구문 : 예외가 발생하든지 않든지 무조건 실행됨"
   ]
  },
  {
   "cell_type": "code",
   "execution_count": null,
   "metadata": {},
   "outputs": [],
   "source": [
    "index = []\n",
    "try:\n",
    "    number_input = int(input(\"정수입력: \"))\n",
    "except Exception as ex:\n",
    "    print(\"입력 오류입니다.\", ex)\n",
    "else: \n",
    "    print(\"입력값은 %d입니다\" %number_input)\n",
    "    index.append(number_input)\n",
    "    try:\n",
    "        for i in range(3): print(index[i])\n",
    "    except Exception as e:\n",
    "        print(str(e))\n",
    "finally:\n",
    "    print(\"프로그램을 종료합니다.\")"
   ]
  },
  {
   "cell_type": "code",
   "execution_count": null,
   "metadata": {},
   "outputs": [],
   "source": [
    "# file_name = \"basic1.txt\"\n",
    "# file_path = \"..\\\\..\\\\source\\\\\"\n",
    "\n",
    "# try :\n",
    "#     fo = open(file_path + file_name, 'rt', encoding=\"utf-8\")\n",
    "#     fo.read()\n",
    "#     fo.close()\n",
    "# except Exception as e:\n",
    "#     print(str(e))\n",
    "\n",
    "# print(\"file.closed:\", fo.closed)"
   ]
  },
  {
   "cell_type": "code",
   "execution_count": null,
   "metadata": {},
   "outputs": [],
   "source": [
    "file_name = \"basic1.txt\"\n",
    "file_path = \"..\\\\..\\\\source\\\\\"\n",
    "\n",
    "try :\n",
    "    fo = open(file_path + file_name, 'rt', encoding=\"utf-8\")\n",
    "    fo.read()\n",
    "except Exception as e:\n",
    "    print(str(e))\n",
    "finally:\n",
    "    fo.close()\n",
    "\n",
    "print(\"file.closed:\", fo.closed)"
   ]
  },
  {
   "cell_type": "code",
   "execution_count": null,
   "metadata": {},
   "outputs": [],
   "source": [
    "# finally VS return\n",
    "def test():\n",
    "    print(\"test()시작\")\n",
    "    try:\n",
    "        print(\"1.....\")\n",
    "        return\n",
    "        print(\"2.....\")\n",
    "    except:print(\"except.....\")\n",
    "    else: print(\"else.....\")\n",
    "    finally: print(\"finally.....\") # return이 있어도 finally는 실행됨\n",
    "    print(\"test() 끝\")  # return때문에 수행되지 못함\n",
    "\n",
    "test()"
   ]
  },
  {
   "cell_type": "code",
   "execution_count": null,
   "metadata": {},
   "outputs": [],
   "source": [
    "# finally VS break\n",
    "while True:\n",
    "    try:\n",
    "        print(\"try 1.....\")\n",
    "        print(\"try 2.....\")\n",
    "        break\n",
    "        print(\"try 3.....\")\n",
    "    except: print(\"except....\")\n",
    "    finally:\n",
    "        print(\"finally.....\")\n",
    "print(\"프로그램 종료.....\")"
   ]
  }
 ],
 "metadata": {
  "interpreter": {
   "hash": "054c0b5073ae8ed56926c5c67113945079b283bacf1a269ae7086b3d9eebd60c"
  },
  "kernelspec": {
   "display_name": "Python 3.10.1 64-bit",
   "language": "python",
   "name": "python3"
  },
  "language_info": {
   "codemirror_mode": {
    "name": "ipython",
    "version": 3
   },
   "file_extension": ".py",
   "mimetype": "text/x-python",
   "name": "python",
   "nbconvert_exporter": "python",
   "pygments_lexer": "ipython3",
   "version": "3.10.1"
  },
  "orig_nbformat": 4
 },
 "nbformat": 4,
 "nbformat_minor": 2
}
