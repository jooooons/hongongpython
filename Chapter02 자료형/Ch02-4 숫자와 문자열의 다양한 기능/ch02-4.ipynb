{
 "cells": [
  {
   "cell_type": "markdown",
   "metadata": {},
   "source": [
    "### 02-4 숫자와 문자열의 다양한 기능\n",
    "---   \n",
    "#### 시작하기 전에\n",
    "***문자열 자료형의 기능*** 즉, 내장 함수를 알아보기"
   ]
  },
  {
   "cell_type": "code",
   "execution_count": null,
   "metadata": {},
   "outputs": [],
   "source": [
    "# \"str\".멤버함수호출\n",
    "\n",
    "print(\"Life is short\".upper())\n",
    "print(\"I am String\".__len__())"
   ]
  },
  {
   "cell_type": "markdown",
   "metadata": {},
   "source": [
    "> 서식 지정자(format specifier)로 문자열 만들기"
   ]
  },
  {
   "cell_type": "code",
   "execution_count": null,
   "metadata": {},
   "outputs": [],
   "source": [
    "# 철수의 평균 점수는 85.3점 입니다\n",
    "# 영희의 평균 점수는 23.4점 입니다\n",
    "# 길동의 평균 점수는 58.8점 입니다\n",
    "# 순이의 평균 점수는 94.1점 입니다\n",
    "# {변수}의 평균 점수는 {점수}점 입니다\n",
    "\n",
    "# 문자열 안에서 특정 부분을 원하는 값으로 바꿀 때 : 서식 지정자 또는 문자열 포매팅을 사용한다.\n",
    "name = \"철수\"\n",
    "score = 85.3\n",
    "print(\"%s의 평균 점수는 %f입니다\" %(name, score))"
   ]
  },
  {
   "cell_type": "code",
   "execution_count": null,
   "metadata": {},
   "outputs": [],
   "source": [
    "# 학급 학생들의 점수 출력하기\n",
    "import time\n",
    "\n",
    "names = [\"철수\", \"영희\", \"길산\", \"희경\", \"수진\", \"영수\"]\n",
    "scores = [85, 98, 75, 83, 91, 88]    \n",
    "for i in names:\n",
    "    print(\"%s 학생의 점수는 %d점입니다.\" %(i, scores[names.index(i)]))\n",
    "    time.sleep(1)\n",
    "# for i in range(len(names)):\n",
    "#     print(\"%s 학생의 점수는 %d점입니다.\" %(names[i], scores[i]))"
   ]
  },
  {
   "cell_type": "markdown",
   "metadata": {},
   "source": [
    "> 문자열 format() 함수"
   ]
  },
  {
   "cell_type": "code",
   "execution_count": null,
   "metadata": {},
   "outputs": [],
   "source": [
    "# 문자열 안에서 변수를 사용할 때\n",
    "year = 2022\n",
    "month = 1\n",
    "day = 5\n",
    "today = \"오늘은 {}년 {}월 {}일입니다.\".format(year, month, day)\n",
    "print(today)"
   ]
  },
  {
   "cell_type": "code",
   "execution_count": null,
   "metadata": {},
   "outputs": [],
   "source": [
    "def call(number) :\n",
    "    print(\"띵동~ {}번 고객님 접수창고로 와주세요.\".format(number))\n",
    "\n",
    "for i in [1,2,3,4,5,6,7,8,9]:\n",
    "    call(i)\n",
    "    time.sleep(2)"
   ]
  },
  {
   "cell_type": "code",
   "execution_count": null,
   "metadata": {},
   "outputs": [],
   "source": [
    "# 인덱스 사용\n",
    "data1 = \"{0} {1} {1} {0}\".format(\"Python\", \"Java\")\n",
    "print(data1)\n",
    "\n",
    "# 인덱스 대신 변수명 지정하기\n",
    "data2 = \"Hello, {lan} {ver}\".format(lan = \"Python\", ver = \"3.10.1\")\n",
    "print(data2)\n",
    "\n",
    "#변수명 그대로 사용\n",
    "lan = \"Java\"\n",
    "ver = 11\n",
    "print(f\"Hello, {lan} {ver}\")"
   ]
  },
  {
   "cell_type": "markdown",
   "metadata": {},
   "source": [
    "> IndexError 예외 : {} 인덱스 개수가 함수 매개변수 개수보다 많은 경우"
   ]
  },
  {
   "cell_type": "code",
   "execution_count": null,
   "metadata": {},
   "outputs": [],
   "source": [
    "print(\"{} {}\".format(1,2,3,4,5)) # <이건 돌아감\n",
    "#print(\"{} {} {}\".format(1,2))     <이건 안돌아감"
   ]
  },
  {
   "cell_type": "markdown",
   "metadata": {},
   "source": [
    "> format() 함수의 다양한 기능 : 숫자 관련"
   ]
  },
  {
   "cell_type": "code",
   "execution_count": null,
   "metadata": {},
   "outputs": [],
   "source": [
    "outputA = \"{:d}\".format(52)\n",
    "print(outputA)\n",
    "outputA = \"{:s}\".format(\"52\")\n",
    "print(outputA)\n",
    "outputA = \"{:5d}\".format(52) #3칸 띄우고 2자리\n",
    "print(outputA)\n",
    "outputA = \"{:05d}\".format(52) #3칸 0채우고 2자리\n",
    "print(outputA)\n",
    "\n",
    "print(\"[지출내역]\")\n",
    "cost1 = \"{:5d} (만원)\".format(1200)\n",
    "cost2 = \"{:5d} (만원)\".format(200)\n",
    "cost3 = \"{:5d} (만원)\".format(150)\n",
    "cost4 = \"{:5d} (만원)\".format(3500)\n",
    "cost5 = \"{:5d} (만원)\".format(1200)\n",
    "cost = [cost1, cost2, cost3, cost4, cost5]\n",
    "for i in range(5):\n",
    "    print(cost[i])"
   ]
  },
  {
   "cell_type": "code",
   "execution_count": null,
   "metadata": {},
   "outputs": [],
   "source": [
    "# 기호와 함께 출력하기\n",
    "outputB = \"{:+d}\".format(55)\n",
    "print(outputB)\n",
    "outputB = \"{:+d}\".format(-55)   # +를 붙이면 부호를 적어주겠다는 뜻임.\n",
    "print(outputB)"
   ]
  },
  {
   "cell_type": "code",
   "execution_count": null,
   "metadata": {},
   "outputs": [],
   "source": [
    "# 부동 소수점 출력의 형태\n",
    "print(\"{:+015f}\".format(3.141592))\n",
    "\n",
    "# 소수점 아래 자릿수 지정하기\n",
    "print(\"{:15.3f}\".format(3.141592))"
   ]
  },
  {
   "cell_type": "markdown",
   "metadata": {},
   "source": [
    "> 대소문자 바꾸기 : upper() lower()"
   ]
  },
  {
   "cell_type": "code",
   "execution_count": null,
   "metadata": {},
   "outputs": [],
   "source": [
    "sentence = \"Hello Python Programming~~!\"\n",
    "sentence = sentence.upper()\n",
    "print(sentence)\n",
    "sentence = sentence.lower()\n",
    "print(sentence)\n",
    "sentence = sentence.capitalize()\n",
    "print(sentence)"
   ]
  },
  {
   "cell_type": "markdown",
   "metadata": {},
   "source": [
    "> 문자열 공백 제거하기 : strip(), lstrip(), rstrip()"
   ]
  },
  {
   "cell_type": "code",
   "execution_count": null,
   "metadata": {},
   "outputs": [],
   "source": [
    "input_data = \"                              Python\"\n",
    "print(f\"입력값: {input_data.strip()}\")"
   ]
  },
  {
   "cell_type": "markdown",
   "metadata": {},
   "source": [
    "> 특정 문자 제거하기"
   ]
  },
  {
   "cell_type": "code",
   "execution_count": null,
   "metadata": {},
   "outputs": [],
   "source": [
    "special = \", Python. / *\"\n",
    "print(f\"input data : {special}\")\n",
    "strip_data = special.strip(\" ,.*/\")\n",
    "print(strip_data)\n",
    "\n",
    "# 구두점을 간단하게 삭제하는 방법\n",
    "import string\n",
    "print(string.punctuation)\n",
    "input_data = \"\"\"!\"#$%&'()*+,-./Python:;<=>?@[\\]^_`{|}~\"\"\"\n",
    "new_strip_data = input_data.strip(string.punctuation).upper()\n",
    "print(new_strip_data)"
   ]
  },
  {
   "cell_type": "markdown",
   "metadata": {},
   "source": [
    "> 문자열의 구성 파악하기 : is_____()"
   ]
  },
  {
   "cell_type": "code",
   "execution_count": null,
   "metadata": {},
   "outputs": [],
   "source": [
    "# 불(boolean) 자료형 리턴\n",
    "\"abc123\".isalnum() # True\n",
    "\"abc\".isalpha() # True\n",
    "\"123\".isnumeric() # True\n",
    "\"123.45\".isdecimal() # False\n",
    "\"12345\".isdigit() # True\n",
    "\"ABCD\".isupper() # True\n",
    "\n",
    "name = \"123\"\n",
    "if name.isalpha() :\n",
    "    print(\"다음 단계로 가세요\")\n",
    "else:\n",
    "    print(\"문자를 입력 하세요\")"
   ]
  },
  {
   "cell_type": "markdown",
   "metadata": {},
   "source": [
    "> 문자열 위치 찾기 : find(), rfind()"
   ]
  },
  {
   "cell_type": "code",
   "execution_count": null,
   "metadata": {},
   "outputs": [],
   "source": [
    "# find() : 왼쪽부터 찾아서 처음 등장하는 위치를 반환\n",
    "# rfind() : 오른쪽부터 찾아서 처음 등장하는 위치를 반환\n",
    "\n",
    "i = \"012345678901234\"\n",
    "s = \"apple pineapple\"\n",
    "print(s.find(\"pl\")) # 2\n",
    "print(s.rfind(\"pl\")) # 12"
   ]
  },
  {
   "cell_type": "markdown",
   "metadata": {},
   "source": [
    "> 문자열과 in 연산자 (자바에서는 contains)"
   ]
  },
  {
   "cell_type": "code",
   "execution_count": null,
   "metadata": {},
   "outputs": [],
   "source": [
    "# 문자열 내부에 어떤(지정한) 문자열이 있는지 확인하기\n",
    "print(\"pine\" in s) # True\n",
    "sentence = \"\"\"sihkjbxjvtiuwrtcqpomoPythonrhixawa;oiqwjfjfbxzm,z zfahfwwoqpo;'f/,\"\"\"\n",
    "print(\"Python\" in sentence) # True\n",
    "\n",
    "# 문자열 개수 세기 : count() 특정 문자열이 몇 번 나오는지 알아내기\n",
    "print(sentence.count(\"Python\"))"
   ]
  },
  {
   "cell_type": "markdown",
   "metadata": {},
   "source": [
    "> 문자열 자르기 : split()"
   ]
  },
  {
   "cell_type": "code",
   "execution_count": null,
   "metadata": {},
   "outputs": [],
   "source": [
    "# 문자열을 특정 문자로 자를 때 사용\n",
    "li = \"10 20 30 40 50\".split()\n",
    "print(li)\n",
    "\n",
    "fruits = \"apple pear grape pineapple orange\".split()\n",
    "print(fruits)\n",
    "fruits[-1]\n",
    "\n",
    "sports = \"baseball/football/golf/boxing/basketball\"\n",
    "listSports = sports.split('/')\n",
    "for i in listSports:\n",
    "    print(i)\n",
    "for i in range(len(listSports)):\n",
    "    print(listSports[i], end=',')"
   ]
  },
  {
   "cell_type": "code",
   "execution_count": 98,
   "metadata": {},
   "outputs": [
    {
     "name": "stdout",
     "output_type": "stream",
     "text": [
      "오늘은 2022년 1월 5일입니다.\n"
     ]
    }
   ],
   "source": [
    "date = \"2022.01.05\"\n",
    "dateList = date.split('.')\n",
    "for i in range(len(dateList)):\n",
    "    dateList[i] = dateList[i].strip(\"0\")\n",
    "print(f\"오늘은 {dateList[0]}년 {dateList[1]}월 {dateList[2]}일입니다.\")"
   ]
  },
  {
   "cell_type": "markdown",
   "metadata": {},
   "source": [
    "> 사용자로부터 입력 받은 모든 정수의 합을 리턴해주는 프로그램 작성 : input_split.py"
   ]
  }
 ],
 "metadata": {
  "interpreter": {
   "hash": "054c0b5073ae8ed56926c5c67113945079b283bacf1a269ae7086b3d9eebd60c"
  },
  "kernelspec": {
   "display_name": "Python 3.10.1 64-bit",
   "language": "python",
   "name": "python3"
  },
  "language_info": {
   "codemirror_mode": {
    "name": "ipython",
    "version": 3
   },
   "file_extension": ".py",
   "mimetype": "text/x-python",
   "name": "python",
   "nbconvert_exporter": "python",
   "pygments_lexer": "ipython3",
   "version": "3.10.1"
  },
  "orig_nbformat": 4
 },
 "nbformat": 4,
 "nbformat_minor": 2
}
