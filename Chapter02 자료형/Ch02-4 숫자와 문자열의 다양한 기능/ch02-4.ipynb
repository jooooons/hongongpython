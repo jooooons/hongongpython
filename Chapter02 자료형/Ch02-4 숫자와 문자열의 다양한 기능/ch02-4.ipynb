{
 "cells": [
  {
   "cell_type": "markdown",
   "metadata": {},
   "source": [
    "### 02-4 숫자와 문자열의 다양한 기능\n",
    "---   \n",
    "#### 시작하기 전에\n",
    "***문자열 자료형의 기능*** 즉, 내장 함수를 알아보기"
   ]
  },
  {
   "cell_type": "code",
   "execution_count": null,
   "metadata": {},
   "outputs": [],
   "source": [
    "# \"str\".멤버함수호출\n",
    "\n",
    "print(\"Life is short\".upper())\n",
    "print(\"I am String\".__len__())"
   ]
  },
  {
   "cell_type": "markdown",
   "metadata": {},
   "source": [
    "> 서식 지정자(format specifier)로 문자열 만들기"
   ]
  },
  {
   "cell_type": "code",
   "execution_count": 8,
   "metadata": {},
   "outputs": [
    {
     "name": "stdout",
     "output_type": "stream",
     "text": [
      "철수의 평균 점수는 85.300000입니다\n"
     ]
    }
   ],
   "source": [
    "# 철수의 평균 점수는 85.3점 입니다\n",
    "# 영희의 평균 점수는 23.4점 입니다\n",
    "# 길동의 평균 점수는 58.8점 입니다\n",
    "# 순이의 평균 점수는 94.1점 입니다\n",
    "# {변수}의 평균 점수는 {점수}점 입니다\n",
    "\n",
    "# 문자열 안에서 특정 부분을 원하는 값으로 바꿀 때 : 서식 지정자 또는 문자열 포매팅을 사용한다.\n",
    "name = \"철수\"\n",
    "score = 85.3\n",
    "print(\"%s의 평균 점수는 %f입니다\" %(name, score))"
   ]
  },
  {
   "cell_type": "code",
   "execution_count": 26,
   "metadata": {},
   "outputs": [
    {
     "name": "stdout",
     "output_type": "stream",
     "text": [
      "철수 학생의 점수는 85점입니다.\n",
      "영희 학생의 점수는 98점입니다.\n",
      "길산 학생의 점수는 75점입니다.\n",
      "희경 학생의 점수는 83점입니다.\n",
      "수진 학생의 점수는 91점입니다.\n",
      "영수 학생의 점수는 88점입니다.\n"
     ]
    }
   ],
   "source": [
    "# 학급 학생들의 점수 출력하기\n",
    "\n",
    "names = [\"철수\", \"영희\", \"길산\", \"희경\", \"수진\", \"영수\"]\n",
    "scores = [85, 98, 75, 83, 91, 88]    \n",
    "for i in names:\n",
    "    print(\"%s 학생의 점수는 %d점입니다.\" %(i, scores[names.index(i)]))\n",
    "# for i in range(len(names)):\n",
    "#     print(\"%s 학생의 점수는 %d점입니다.\" %(names[i], scores[i]))"
   ]
  }
 ],
 "metadata": {
  "interpreter": {
   "hash": "054c0b5073ae8ed56926c5c67113945079b283bacf1a269ae7086b3d9eebd60c"
  },
  "kernelspec": {
   "display_name": "Python 3.10.1 64-bit",
   "language": "python",
   "name": "python3"
  },
  "language_info": {
   "codemirror_mode": {
    "name": "ipython",
    "version": 3
   },
   "file_extension": ".py",
   "mimetype": "text/x-python",
   "name": "python",
   "nbconvert_exporter": "python",
   "pygments_lexer": "ipython3",
   "version": "3.10.1"
  },
  "orig_nbformat": 4
 },
 "nbformat": 4,
 "nbformat_minor": 2
}
