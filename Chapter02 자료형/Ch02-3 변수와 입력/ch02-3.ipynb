{
 "cells": [
  {
   "cell_type": "markdown",
   "metadata": {},
   "source": [
    "### 02-3 변수와 입력\n",
    "---   \n",
    "#### 시작하기 전에\n",
    "***변수***란 값을 저장하여 사용하기 위한 식별자이다."
   ]
  },
  {
   "cell_type": "markdown",
   "metadata": {},
   "source": [
    "> 변수(Variable) 만들기(사용)"
   ]
  },
  {
   "cell_type": "code",
   "execution_count": null,
   "metadata": {},
   "outputs": [],
   "source": [
    "#계좌에 100만원 가지고 용산전자상가에서 노트북과 이어폰을 사고 정산하기\n",
    "account = 1_000_000\n",
    "laptop = 500_000\n",
    "airpods = 200_000\n",
    "account = account - laptop - airpods\n",
    "print(\"계좌잔고 : \", account, \"원\", sep='')"
   ]
  },
  {
   "cell_type": "markdown",
   "metadata": {},
   "source": [
    "> 복합대입연산자 : += -= *= /= %= **="
   ]
  },
  {
   "cell_type": "code",
   "execution_count": null,
   "metadata": {},
   "outputs": [],
   "source": [
    "a = 0\n",
    "a = a + 10\n",
    "print(a)\n",
    "a += 10\n",
    "print(a)\n",
    "a /= 5\n",
    "print(a)\n",
    "\n",
    "#문자열 복합연산자( + * )\n",
    "hello = \"안녕하세요!\"\n",
    "hello +=  \"여러분~\"\n",
    "print(hello)"
   ]
  },
  {
   "cell_type": "markdown",
   "metadata": {},
   "source": [
    "> 사용자 입력 : input()"
   ]
  },
  {
   "cell_type": "code",
   "execution_count": null,
   "metadata": {},
   "outputs": [],
   "source": [
    "keyboard = input(\"숫자를 입력해 주세요 :\")\n",
    "print(type(keyboard))\n",
    "print(int(keyboard) + 10)"
   ]
  },
  {
   "cell_type": "markdown",
   "metadata": {},
   "source": [
    ">사용자 입력값 계산하기"
   ]
  },
  {
   "cell_type": "code",
   "execution_count": null,
   "metadata": {},
   "outputs": [],
   "source": [
    "# 숫자를 두 번 입력받아 계산하고 결과를 출력하시오.\n",
    "num1 = float(input(\"첫 번째 숫자 입력하세요 : \"))\n",
    "num2 = float(input(\"두 번째 숫자 입력하세요 : \"))\n",
    "print(\"두 수의 합은 {}\".format(num1+num2))\n",
    "print(\"두 수의 뺄셈은 {}\".format(num1-num2))\n",
    "print(\"두 수의 곱은 {}\".format(num1*num2))\n",
    "print(\"두 수의 나눗셈은 {}\".format(round(num1/num2, 2)))"
   ]
  },
  {
   "cell_type": "markdown",
   "metadata": {},
   "source": [
    ">  ValueError 예외"
   ]
  },
  {
   "cell_type": "code",
   "execution_count": null,
   "metadata": {},
   "outputs": [],
   "source": [
    "# print(dir(__builtins__))\n",
    "\n",
    "# 첫 째, 숫자가 아닌 자료를 숫자로 변환하려고 할 때\n",
    "data = int(input(\"정수를 입력하세요: \")) #data에 문자열 입력하면 ValueError\n",
    "\n",
    "# 둘 째, 소수점이 있는 숫자 형식의 문자열을 int() 형반환하려고 할 때\n",
    "s = \"42.195\"\n",
    "float(s) # int(s)를 하면 ValueError"
   ]
  },
  {
   "cell_type": "code",
   "execution_count": null,
   "metadata": {},
   "outputs": [],
   "source": [
    "# \"오늘의 날짜: 2022.1.5\"\n",
    "\n",
    "import datetime\n",
    "date = datetime.datetime.now()\n",
    "print(\"오늘의 날짜 : {}년 {}월 {}일\".format(date.year, date.month, date.day))\n"
   ]
  },
  {
   "cell_type": "code",
   "execution_count": null,
   "metadata": {},
   "outputs": [],
   "source": [
    "# 사용자로부터 인치(inch)를 입력받아 (cm) 로 리턴해주는 프로그램 작성\n",
    "\n",
    "inch = float(input(\"인치수를 입력하세요 : \"))\n",
    "cm = inch * 2.54\n",
    "print(\"{} inch는 {} cm입니다.\".format(inch, cm))\n",
    "print(f\"{inch} inch는 {cm} cm입니다.\")"
   ]
  }
 ],
 "metadata": {
  "interpreter": {
   "hash": "054c0b5073ae8ed56926c5c67113945079b283bacf1a269ae7086b3d9eebd60c"
  },
  "kernelspec": {
   "display_name": "Python 3.10.1 64-bit",
   "language": "python",
   "name": "python3"
  },
  "language_info": {
   "codemirror_mode": {
    "name": "ipython",
    "version": 3
   },
   "file_extension": ".py",
   "mimetype": "text/x-python",
   "name": "python",
   "nbconvert_exporter": "python",
   "pygments_lexer": "ipython3",
   "version": "3.10.1"
  },
  "orig_nbformat": 4
 },
 "nbformat": 4,
 "nbformat_minor": 2
}
