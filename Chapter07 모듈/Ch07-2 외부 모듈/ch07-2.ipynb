{
 "cells": [
  {
   "cell_type": "markdown",
   "metadata": {},
   "source": [
    "### 07-2 외부 모듈\n",
    "---\n",
    "#### 다른 사람이 만들어 배포하는 모듈\n",
    "\n",
    "> 모듈 설치하기 (pip)"
   ]
  },
  {
   "cell_type": "code",
   "execution_count": null,
   "metadata": {},
   "outputs": [],
   "source": [
    "# [cmd], 터미널(ztrl + `)\n",
    "# pip install 모듈이름"
   ]
  },
  {
   "cell_type": "markdown",
   "metadata": {},
   "source": [
    "> BeautifulSoup 모듈 이용한 웹 스크랩핑"
   ]
  },
  {
   "cell_type": "code",
   "execution_count": null,
   "metadata": {},
   "outputs": [],
   "source": [
    "# 웹 페이지 분석 모듈\n",
    "\n",
    "# 현재 위치와 현재 온도 출력\n",
    "# 네이버 오늘의 날씨 (https://weather.naver.com/)\n",
    "# pip install beautifulsoup4\n",
    "\n",
    "from urllib import request\n",
    "from bs4 import BeautifulSoup\n",
    "\n",
    "target = request.urlopen(\"https://weather.naver.com/today\")\n",
    "soup = BeautifulSoup(target, \"html.parser\")\n",
    "\n",
    "data = soup.find('div', {'class': \"location_area\"})\n",
    "address = data.find('strong', {'class' : 'location_name'}).text\n",
    "\n",
    "temp = soup.find('strong', {'class' : \"current\"}).get_text().replace(\"현재 온도\", '')\n",
    "\n",
    "print(f\"오늘 {address}의 온도는 {temp}입니다.\")"
   ]
  }
 ],
 "metadata": {
  "interpreter": {
   "hash": "054c0b5073ae8ed56926c5c67113945079b283bacf1a269ae7086b3d9eebd60c"
  },
  "kernelspec": {
   "display_name": "Python 3.10.1 64-bit",
   "language": "python",
   "name": "python3"
  },
  "language_info": {
   "codemirror_mode": {
    "name": "ipython",
    "version": 3
   },
   "file_extension": ".py",
   "mimetype": "text/x-python",
   "name": "python",
   "nbconvert_exporter": "python",
   "pygments_lexer": "ipython3",
   "version": "3.10.1"
  },
  "orig_nbformat": 4
 },
 "nbformat": 4,
 "nbformat_minor": 2
}
