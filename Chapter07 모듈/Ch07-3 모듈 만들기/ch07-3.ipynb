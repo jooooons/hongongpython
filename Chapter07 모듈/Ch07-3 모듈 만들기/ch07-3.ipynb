{
 "cells": [
  {
   "cell_type": "markdown",
   "metadata": {},
   "source": [
    "### 07-3 모듈 만들기\n",
    "---\n",
    "***모듈(module)*** 변수, 함수, 클래스 등을 모아 놓은 스크립트 파일"
   ]
  },
  {
   "cell_type": "markdown",
   "metadata": {},
   "source": [
    "> 모듈 만들기 : circle.py"
   ]
  },
  {
   "cell_type": "code",
   "execution_count": null,
   "metadata": {},
   "outputs": [],
   "source": [
    "# from math import pi\n",
    "# PI = pi\n",
    "\n",
    "# def number_input():\n",
    "#     output = input(\"숫자 입력: \")\n",
    "#     return float(output)\n",
    "\n",
    "# def get_circumference(radius):\n",
    "#     return 2 * PI * radius\n",
    "\n",
    "# def get_circle_area(radius):\n",
    "#     return PI * radius ** 2"
   ]
  },
  {
   "cell_type": "code",
   "execution_count": null,
   "metadata": {},
   "outputs": [],
   "source": [
    "# circle 모듈 사용\n",
    "\n",
    "import circle as cir\n",
    "\n",
    "r = cir.number_input()\n",
    "print(\"원의 둘레:\",cir.get_circumference(r))\n",
    "print(\"원의 넓이:\",cir.get_circle_area(r))"
   ]
  },
  {
   "cell_type": "code",
   "execution_count": null,
   "metadata": {},
   "outputs": [],
   "source": [
    "# class Person :\n",
    "#     def __init__(self, name, age, address):\n",
    "#         self.name = name\n",
    "#         self.age = age\n",
    "#         self.address = address\n",
    "#     def greeting(self):\n",
    "#         print(f\"저는 {self.age}살 {self.address}에 사는 {self.name}입니다.\")\n",
    "from person import Person\n",
    "iu = Person(\"아이유\", 28, \"서울\")\n",
    "iu.greeting()"
   ]
  },
  {
   "cell_type": "markdown",
   "metadata": {},
   "source": [
    "> if \\_\\_name\\_\\_ == '\\_\\_main\\_\\_' : ?"
   ]
  },
  {
   "cell_type": "code",
   "execution_count": null,
   "metadata": {},
   "outputs": [],
   "source": [
    "# if __name__ == '__main__'\n",
    "# 현재 스크립트 파일이 실행되는 상태를 파악하기 위해 사용\n",
    "import hello\n",
    "\n",
    "print(\"main.py __name__\", __name__)"
   ]
  }
 ],
 "metadata": {
  "interpreter": {
   "hash": "054c0b5073ae8ed56926c5c67113945079b283bacf1a269ae7086b3d9eebd60c"
  },
  "kernelspec": {
   "display_name": "Python 3.10.1 64-bit",
   "language": "python",
   "name": "python3"
  },
  "language_info": {
   "codemirror_mode": {
    "name": "ipython",
    "version": 3
   },
   "file_extension": ".py",
   "mimetype": "text/x-python",
   "name": "python",
   "nbconvert_exporter": "python",
   "pygments_lexer": "ipython3",
   "version": "3.10.1"
  },
  "orig_nbformat": 4
 },
 "nbformat": 4,
 "nbformat_minor": 2
}
